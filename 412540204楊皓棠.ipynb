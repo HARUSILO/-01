{
  "nbformat": 4,
  "nbformat_minor": 0,
  "metadata": {
    "colab": {
      "provenance": [],
      "authorship_tag": "ABX9TyMSGeTuQzPv5WNt03czMvRQ",
      "include_colab_link": true
    },
    "kernelspec": {
      "name": "python3",
      "display_name": "Python 3"
    },
    "language_info": {
      "name": "python"
    }
  },
  "cells": [
    {
      "cell_type": "markdown",
      "metadata": {
        "id": "view-in-github",
        "colab_type": "text"
      },
      "source": [
        "<a href=\"https://colab.research.google.com/github/HARUSILO/-01/blob/main/412540204%E6%A5%8A%E7%9A%93%E6%A3%A0.ipynb\" target=\"_parent\"><img src=\"https://colab.research.google.com/assets/colab-badge.svg\" alt=\"Open In Colab\"/></a>"
      ]
    },
    {
      "cell_type": "code",
      "execution_count": null,
      "metadata": {
        "colab": {
          "base_uri": "https://localhost:8080/"
        },
        "id": "pjNFeHktFW0Q",
        "outputId": "7df598e6-a8bd-4166-fba5-046f8ac5471a"
      },
      "outputs": [
        {
          "output_type": "stream",
          "name": "stdout",
          "text": [
            "1 2 3\n",
            "{1, 2, 3}\n",
            "{1, 2} 3\n"
          ]
        }
      ],
      "source": [
        "a=1\n",
        "b=2\n",
        "c=3\n",
        "print(a,b,c)\n",
        "print({a,b,c})\n",
        "print({a,b},c)"
      ]
    },
    {
      "cell_type": "code",
      "source": [
        "print('hey','hi','hollo',)\n",
        "print('hey','hi','hollo',sep='-')\n",
        "print('hey','hi','hollo',sep='/t')\n",
        "print('hey','hi','hollo',sep='/n')"
      ],
      "metadata": {
        "colab": {
          "base_uri": "https://localhost:8080/"
        },
        "id": "fgU5fnL_GC6A",
        "outputId": "227c3270-8064-4cbf-dc28-76efd744a1be"
      },
      "execution_count": null,
      "outputs": [
        {
          "output_type": "stream",
          "name": "stdout",
          "text": [
            "hey hi hollo\n",
            "hey-hi-hollo\n",
            "hey/thi/thollo\n",
            "hey/nhi/nhollo\n"
          ]
        }
      ]
    },
    {
      "cell_type": "code",
      "source": [
        "print('午安')\n",
        "print('同學好')\n",
        "print('打起精神來!!')\n",
        "print('午安','同學好','打起精神來!!',sep='/n')\n"
      ],
      "metadata": {
        "colab": {
          "base_uri": "https://localhost:8080/"
        },
        "id": "zv7gb76JHVQy",
        "outputId": "f708b39a-4d0c-48b3-aead-fd9c6582a52d"
      },
      "execution_count": null,
      "outputs": [
        {
          "output_type": "stream",
          "name": "stdout",
          "text": [
            "午安\n",
            "同學好\n",
            "打起精神來!!\n",
            "午安/n同學好/n打起精神來!!\n"
          ]
        }
      ]
    },
    {
      "cell_type": "code",
      "source": [
        "print(123)\n",
        "print(456)\n",
        "print(123,end=',')\n",
        "print(456)\n",
        "print(123,end='')\n",
        "print(456)"
      ],
      "metadata": {
        "colab": {
          "base_uri": "https://localhost:8080/"
        },
        "id": "mS1R__qCIxry",
        "outputId": "1ffee7c2-d450-44e0-b528-0a519d2499f1"
      },
      "execution_count": null,
      "outputs": [
        {
          "output_type": "stream",
          "name": "stdout",
          "text": [
            "123\n",
            "456\n",
            "123,456\n",
            "123456\n"
          ]
        }
      ]
    },
    {
      "cell_type": "code",
      "source": [
        "print('午安_同學好_打起精神來!!')\n",
        "print('下午好,平安順心,健康如意')"
      ],
      "metadata": {
        "colab": {
          "base_uri": "https://localhost:8080/"
        },
        "id": "qNSeNj1XJYJT",
        "outputId": "ac23a66e-bb58-44ca-db86-9fd482e980d8"
      },
      "execution_count": null,
      "outputs": [
        {
          "output_type": "stream",
          "name": "stdout",
          "text": [
            "午安_同學好_打起精神來!!\n",
            "下午好,平安順心,健康如意\n"
          ]
        }
      ]
    }
  ]
}